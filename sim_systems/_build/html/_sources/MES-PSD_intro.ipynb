{
 "cells": [
  {
   "cell_type": "markdown",
   "metadata": {},
   "source": [
    "# PSD analysis of different cases of (simulated) reaction systems\n",
    "\n",
    "Some introductionary text...\n",
    "\n",
    "\n",
    "## The basics, linear reactions\n",
    "\n",
    "Let's start with the obligatory import of modules we need."
   ]
  },
  {
   "cell_type": "code",
   "execution_count": 1,
   "metadata": {},
   "outputs": [],
   "source": [
    "# Math\n",
    "import numpy as np\n",
    "import scipy\n",
    "from scipy.integrate import odeint\n",
    "from scipy import signal\n",
    "\n",
    "# Plotting stuff\n",
    "import plotly\n",
    "import plotly.graph_objs as go\n",
    "import plotly.io as pio\n",
    "from plotly.subplots import make_subplots\n",
    "\n",
    "pio.renderers.default='iframe'"
   ]
  },
  {
   "cell_type": "markdown",
   "metadata": {},
   "source": [
    "We'll also need the previously defined `BasicReactionModel` class and `constr_stoichio` function who will construct our system of differential equations (`BasicReactionModel`) and construct a stoichiometry matrix (`constr_stoichio`). These ones have been stored in a module `ModelStuff`.\n",
    "\n",
    "I've also defined a template (`PlotStuff`) for how I want to the data to be plotted, resulting in a macro named `plotty` for plotting the data."
   ]
  },
  {
   "cell_type": "code",
   "execution_count": 2,
   "metadata": {},
   "outputs": [],
   "source": [
    "from ModelStuff import *\n",
    "from PlotStuff import *"
   ]
  },
  {
   "cell_type": "markdown",
   "metadata": {},
   "source": [
    "### Only one desorption step\n",
    "\n",
    "To begin, let's look at the following reaction system:\n",
    "\n",
    "$$\n",
    "\\begin{align}\n",
    "    A_2 &\\rightarrow 2A^*\\\\\n",
    "    B + * &\\rightarrow B*\\\\\n",
    "    A^* + B^* &\\rightarrow AB^* + *\\\\\n",
    "    AB^* &\\rightarrow AB + *\n",
    "\\end{align}\n",
    "$$\n",
    "\n",
    "A simple linear reaction scheme, with three adsorption/desorption steps and one surface reaction between two different adsorbates. We'll define the differential equation system by first defining a stoichiometry matrix for the reaction system by the use of `constr_stoichio`. Given this stoichiometry matrix, we can later on define the ODE system by the use of `BasicReactionModel`.\n",
    "\n",
    "For this first example, we'll set all reaction constants to be equal (1) except the re-adsorption of AB which we will prohibit by setting its reaction constant (`k[1, -1]`) to 0. Furthermore, we'll set the partial pressures as constant (`constant_term = True` for variables corresponding to pressures) and the initial condition as a clean surface and that we only have one kind of adsorption site."
   ]
  },
  {
   "cell_type": "code",
   "execution_count": 3,
   "metadata": {},
   "outputs": [],
   "source": [
    "reactions = [\"A2 + 2* -> 2A*\",\n",
    "             \"B + * -> B*\",\n",
    "             \"A* + B* -> AB* + *\",\n",
    "             \"AB* -> AB + *\",\n",
    "             ]\n",
    "\n",
    "variables = [\"*\", \"A*\", \"B*\", \"AB*\", \"A2\", \"B\", \"AB\"]\n",
    "\n",
    "k = np.array([[1] * len(reactions)] * 2)\n",
    "k[1, -1] = 0\n",
    "\n",
    "x0_sites = [1]\n",
    "x0_surfS = [0] * 3\n",
    "x0_press = [1] * 3\n",
    "\n",
    "x0 = x0_sites + x0_surfS + x0_press\n",
    "\n",
    "constant_term = [False] * (len(x0_sites) + len(x0_surfS)) + \\\n",
    "                [True] * len(x0_press)\n",
    "\n",
    "constant_term[-1] = False\n",
    "\n",
    "stoichi = constr_stoichio(variables, reactions)\n",
    "\n",
    "test_model = BasicReactionModel(k.T,\n",
    "                                stoichi=stoichi,\n",
    "                                const_term=constant_term,\n",
    "                                )"
   ]
  },
  {
   "cell_type": "markdown",
   "metadata": {},
   "source": [
    "So, we are now ready to solve the differential equation system. For this, we'll use SciPy's solve_ivp function (using the default Runge-Kutta 45 method)."
   ]
  },
  {
   "cell_type": "code",
   "execution_count": 4,
   "metadata": {
    "tags": []
   },
   "outputs": [
    {
     "data": {
      "text/html": [
       "<iframe\n",
       "    scrolling=\"no\"\n",
       "    width=\"100%\"\n",
       "    height=\"545px\"\n",
       "    src=\"iframe_figures/figure_4.html\"\n",
       "    frameborder=\"0\"\n",
       "    allowfullscreen\n",
       "></iframe>\n"
      ]
     },
     "metadata": {},
     "output_type": "display_data"
    }
   ],
   "source": [
    "# Time span\n",
    "t0 = 0\n",
    "tf = 10\n",
    "\n",
    "# Error tolerance\n",
    "res = 1.0e-12\n",
    "AbsTol = [res] * test_model.stoichi.shape[1]\n",
    "RelTol = res\n",
    "\n",
    "ans = scipy.integrate.solve_ivp(test_model.reaction, \n",
    "                                [t0, tf], \n",
    "                                x0,\n",
    "                                rtol=RelTol, \n",
    "                                atol=AbsTol,\n",
    "                                )\n",
    "\n",
    "# Net reaction rate for each step\n",
    "r = np.array([test_model.reaction(0, step) for step in ans.y.T]).T\n",
    "\n",
    "# Plot the data\n",
    "fig = plotty(ans.t, ans.y, variables[:(len(x0) - len(x0_press))], r[-1])\n",
    "\n",
    "# Save the plot as an interactive html file for later use\n",
    "pio.write_html(fig, 'fig1.html')"
   ]
  },
  {
   "cell_type": "markdown",
   "metadata": {},
   "source": [
    "Just to make sure that everything behaves correctly, let's try multiplying the reaction constants by 10. As expected, it neither affected the steady-state coverage nor the TOF of the reaction (as the forward and backward reaction cancels each other out) but we reached steady-state much faster."
   ]
  },
  {
   "cell_type": "code",
   "execution_count": 5,
   "metadata": {},
   "outputs": [
    {
     "data": {
      "text/html": [
       "<iframe\n",
       "    scrolling=\"no\"\n",
       "    width=\"100%\"\n",
       "    height=\"545px\"\n",
       "    src=\"iframe_figures/figure_5.html\"\n",
       "    frameborder=\"0\"\n",
       "    allowfullscreen\n",
       "></iframe>\n"
      ]
     },
     "metadata": {},
     "output_type": "display_data"
    }
   ],
   "source": [
    "k = [[10, 10, 10, 10],\n",
    "     [10, 10, 10, 0],\n",
    "     ]\n",
    "k = np.array(k)\n",
    "\n",
    "test_model.react_const(k)\n",
    "\n",
    "t0 = 0\n",
    "tf = 10\n",
    "\n",
    "ans = scipy.integrate.solve_ivp(test_model.reaction, \n",
    "                                [t0, tf], \n",
    "                                x0,\n",
    "                                rtol=RelTol, \n",
    "                                atol=AbsTol,\n",
    "                                )\n",
    "\n",
    "r = np.array([test_model.reaction(0, step) for step in ans.y.T]).T\n",
    "\n",
    "# Plot the data\n",
    "fig = plotty(ans.t, ans.y, variables[:(len(x0) - len(x0_press))], r[-1])\n",
    "\n",
    "# Save the plot as an interactive html file for later use\n",
    "pio.write_html(fig, 'fig2.html')"
   ]
  },
  {
   "cell_type": "markdown",
   "metadata": {},
   "source": [
    "## Adding variation - To modulate variables\n",
    "\n",
    "So, having laid the groundwork with by setting up the differential equations for the reaction system, let's move on to the modulation function. Below we have the function `stim_sin` which will allow us to modulate one or more input variables to the ODE solver by the use of a sinusoidal function. Furthermore, it will overwrite the value of the modulated variable while maintaining it as a constant for each loop of the ODE function, ergo we can still prohibit the ODE solver from changing it's value while still adding a modulation function."
   ]
  },
  {
   "cell_type": "code",
   "execution_count": 6,
   "metadata": {},
   "outputs": [],
   "source": [
    "def stim_sin(t, x, func, c):\n",
    "    '''\n",
    "    Varies one or more input arguments to a function func with a sinus function.\n",
    "    \n",
    "    Its intended use is to add a stimulus function to a function to be solved by\n",
    "    ODE solver.\n",
    "    \n",
    "    func : function\n",
    "        function describing the ODE system. func(t, x)\n",
    "    c : list\n",
    "        The coefficient and constant term of the sinus function.\n",
    "        x[0] = c[0, 0] * np.sin(c[0, 1] * t + c[0, 2]) + c[0, 3]\n",
    "        If c[i, 0] = 0, then x[i] = x[i]\n",
    "    '''\n",
    "    \n",
    "    for i, term in enumerate(c):\n",
    "        if term[0] != 0:\n",
    "            x[i] = term[0] * np.sin(term[1] * t + term[2]) + term[3]\n",
    "    \n",
    "    return func(t, x)"
   ]
  },
  {
   "cell_type": "markdown",
   "metadata": {},
   "source": [
    "Except asking for the `t` and `x` variables (used by the ODE solver), `stim_sin` also asks for the ODE function which will be modulated (in this case it is our `test_model.reaction`) and a couple of constants for the sinus function.\n",
    "\n",
    "<br>\n",
    "\n",
    "$$\n",
    "\\begin{align}\n",
    "    f(x) &= A \\, \\sin \\left(\\frac{2 \\pi}{\\tau} \\, t + \\varphi \\right) + C\\\\\n",
    "    f(x) &= x_1 \\, \\sin \\left(x_2 \\, t + x_3 \\right) + x_4\n",
    "\\end{align}\n",
    "$$\n",
    "\n",
    "<br>\n",
    "\n",
    "Let's perform a sine modulation on the H$_2$ gas. As `stim_sin` function will override the initial value for modulated variable, we'll need to define the constants of the sinus function such that our maximum partial pressure will be that of  $x_0$(H$_2$). So, as the sine can only give \\[-1, 1\\], we simply need to fulfill the conditions of $x_1+x_4=x_0$(H$_2$) and $-x_1+x_4>0$. In this example, we'll let the H$_2$ partial pressure oscillate between 0 and 1, and as such we'll set $x_1=0.5$ and $x_4=0.5$.\n",
    "\n",
    ">Note: While ignoring the initial value, `stim_sin` will not affect the value at $t_0$ as it is assigned by the ODE solver. As such, there might be cases in which a solution can not be obtained due to a potential dramatic shift, it is therefore advisable to set the starting condition to equal the sine function at $t_0$."
   ]
  },
  {
   "cell_type": "code",
   "execution_count": 7,
   "metadata": {},
   "outputs": [
    {
     "data": {
      "text/html": [
       "<iframe\n",
       "    scrolling=\"no\"\n",
       "    width=\"100%\"\n",
       "    height=\"545px\"\n",
       "    src=\"iframe_figures/figure_7.html\"\n",
       "    frameborder=\"0\"\n",
       "    allowfullscreen\n",
       "></iframe>\n"
      ]
     },
     "metadata": {},
     "output_type": "display_data"
    }
   ],
   "source": [
    "period = 0.5#0.637 # Equal to TOF at steady-state\n",
    "stim_const = np.array([[0] * 4] * len(x0), dtype=float)\n",
    "stim_const[4, 0] = 0.5\n",
    "stim_const[4, 1] = 2 * np.pi / period\n",
    "stim_const[4, 2] = np.pi / 2 # Phase delay correction, start at sin(...) = 1\n",
    "stim_const[4, 3] = 0.5\n",
    "\n",
    "tf = 10 * period\n",
    "\n",
    "ans_sin = scipy.integrate.solve_ivp(stim_sin,\n",
    "                                    [t0, tf], \n",
    "                                    x0,\n",
    "                                    args=[test_model.reaction, \n",
    "                                          stim_const,\n",
    "                                          ],\n",
    "                                    rtol=RelTol, \n",
    "                                    atol=AbsTol,\n",
    "                                    )\n",
    "\n",
    "\n",
    "r = np.array([test_model.reaction(0, step) for step in ans_sin.y.T]).T\n",
    "\n",
    "fig = plotty(ans_sin.t, ans_sin.y, variables[:(len(x0) - len(x0_press))], r[-1])"
   ]
  },
  {
   "cell_type": "markdown",
   "metadata": {},
   "source": [
    "Another modulation that could be performed (experimentally much more easily) is the square wave modulation. One benefit about this is the possibility of studying several frequencies from one single experiment, the importance of this will be discussed in the PSD section later on. For now, let's define a function for this square wave modulation using the `square` function from `scipy.signal`."
   ]
  },
  {
   "cell_type": "code",
   "execution_count": 8,
   "metadata": {},
   "outputs": [],
   "source": [
    "from scipy import signal\n",
    "\n",
    "def stim_square(t, x, func, c):\n",
    "    '''\n",
    "    Varies one or more input arguments to a function func with a square wave \n",
    "    function.\n",
    "    \n",
    "    Its intended use is to add a stimulus function to a function to be solved by\n",
    "    ODE solver.\n",
    "    \n",
    "    func : function\n",
    "        function describing the ODE system. func(t, x)\n",
    "    const : list\n",
    "        The coefficient and constant term of the sinus function.\n",
    "        x[0] = c[0, 0] * signal.square(c[0, 1] * t + c[0, 2]) + c[0, 3]\n",
    "        If const[i, 0] = 0, then x_stim[i] = x[i]\n",
    "    '''\n",
    "    \n",
    "    for i, term in enumerate(const):\n",
    "        if term[0] != 0:\n",
    "            x[i] = term[0] * signal.square(term[1] * t + term[2]) + term[3]\n",
    "    \n",
    "    return func(t, x)"
   ]
  },
  {
   "cell_type": "markdown",
   "metadata": {},
   "source": [
    "The behaviour of this square wave is a bit different than the sine function so we'll also change the modulation parameters and then finally perform the calculation and plot."
   ]
  },
  {
   "cell_type": "code",
   "execution_count": 9,
   "metadata": {},
   "outputs": [
    {
     "data": {
      "text/html": [
       "<iframe\n",
       "    scrolling=\"no\"\n",
       "    width=\"100%\"\n",
       "    height=\"545px\"\n",
       "    src=\"iframe_figures/figure_9.html\"\n",
       "    frameborder=\"0\"\n",
       "    allowfullscreen\n",
       "></iframe>\n"
      ]
     },
     "metadata": {},
     "output_type": "display_data"
    }
   ],
   "source": [
    "stim_const[4, 0] = 1\n",
    "stim_const[4, 1] = np.pi / period\n",
    "stim_const[4, 2] = 0\n",
    "stim_const[4, 3] = 0\n",
    "\n",
    "ans_square = scipy.integrate.solve_ivp(stim_sin,\n",
    "                                       [t0, tf], \n",
    "                                       x0,\n",
    "                                       args=[test_model.reaction, \n",
    "                                             stim_const,\n",
    "                                             ],\n",
    "                                       rtol=RelTol, \n",
    "                                       atol=AbsTol,\n",
    "                                       )\n",
    "\n",
    "\n",
    "r = np.array([test_model.reaction(0, step) for step in ans_square.y.T]).T\n",
    "\n",
    "fig = plotty(ans_square.t, ans_square.y, variables[:(len(x0) - len(x0_press))], r[-1])"
   ]
  },
  {
   "cell_type": "markdown",
   "metadata": {},
   "source": [
    "We could then play around with different rate constants and modulation periods and see how the system responds. Keep in mind though that we are ignoring mass transfer limitations, as such the obtained responses by this simulation at high frequencies can differ dramatically from reality due to mass transfer becoming significant."
   ]
  },
  {
   "cell_type": "markdown",
   "metadata": {},
   "source": [
    "## Testing PSD\n",
    "\n",
    "We have now reached the state in which we can produce a simulated reaction system. Let us now try out phase sensitive detection (PSD) on one of these systems. For this example, let's limit the analysis to the usage of the PSD equation (given below) and not involve any in depth analysis using Fourier transform or such.\n",
    "\n",
    "$$\n",
    "A(\\phi^\\text{PSD}) = \\frac{2}{T} \\int^T_0 A(t) \\sin(\\omega t + \\phi^\\text{PSD}) \\text{d}t\n",
    "$$"
   ]
  },
  {
   "cell_type": "code",
   "execution_count": 10,
   "metadata": {},
   "outputs": [],
   "source": [
    "from PSD import psd_demodulation as demodulation"
   ]
  },
  {
   "cell_type": "code",
   "execution_count": 11,
   "metadata": {},
   "outputs": [
    {
     "data": {
      "text/html": [
       "<iframe\n",
       "    scrolling=\"no\"\n",
       "    width=\"100%\"\n",
       "    height=\"545px\"\n",
       "    src=\"iframe_figures/figure_11.html\"\n",
       "    frameborder=\"0\"\n",
       "    allowfullscreen\n",
       "></iframe>\n"
      ]
     },
     "metadata": {},
     "output_type": "display_data"
    }
   ],
   "source": [
    "start_t = np.argmin(abs(ans_sin.t - period * 3))\n",
    "\n",
    "demod_sine = demodulation(ans_sin.y[:-len(x0_press), start_t:].T, \n",
    "                          ans_sin.t[start_t:], \n",
    "                          period, \n",
    "                          kArr=np.array([1]))\n",
    "\n",
    "fig = plot_psd([i for i in range(360)], \n",
    "               demod_sine, \n",
    "               variables[:(len(x0) - len(x0_press))], \n",
    "               demod_sine,\n",
    "               )"
   ]
  },
  {
   "cell_type": "code",
   "execution_count": 14,
   "metadata": {},
   "outputs": [
    {
     "data": {
      "text/html": [
       "<iframe\n",
       "    scrolling=\"no\"\n",
       "    width=\"100%\"\n",
       "    height=\"545px\"\n",
       "    src=\"iframe_figures/figure_14.html\"\n",
       "    frameborder=\"0\"\n",
       "    allowfullscreen\n",
       "></iframe>\n"
      ]
     },
     "metadata": {},
     "output_type": "display_data"
    }
   ],
   "source": [
    "start_t = np.argmin(abs(ans_sin.t - period * 3))\n",
    "\n",
    "demod_sine = demodulation(ans_sin.y[:-len(x0_press), start_t:].T, \n",
    "                          ans_sin.t[start_t:], \n",
    "                          period * 4, \n",
    "                          kArr=np.array([1]))\n",
    "\n",
    "fig = plot_psd([i for i in range(360)], \n",
    "               demod_sine, \n",
    "               variables[:(len(x0) - len(x0_press))], \n",
    "               demod_sine,\n",
    "               )"
   ]
  },
  {
   "cell_type": "code",
   "execution_count": null,
   "metadata": {},
   "outputs": [],
   "source": [
    "def psd_demodulation(A, t, period, kArr=np.array([1]), \n",
    "                    phi=np.arange(0, 360)/180.*np.pi, modtype='sin', angleCorr=0):\n",
    "  \n",
    "    '''Phase sensitive detection demodulation procedure by the use of a lock\n",
    "    in amplifier.\n",
    "\n",
    "    psd_demodulation(A, t, period, kArr, phi, shape, angleCorr)\n",
    "\n",
    "    Parameters\n",
    "    ----------\n",
    "    A : NxM numpy array\n",
    "      The data to demodulate\n",
    "    t : 1xM numpy array\n",
    "      The time data points of the data\n",
    "    period : float\n",
    "      The time period of the stimulation\n",
    "    kArr : 1-dim. numpy array\n",
    "      Array with demodulation indices. This corresponds to 'k = n' for \n",
    "      sinusoidal and 'k = 2n - 1' for square wave. Default value is [1]\n",
    "    phi : 1-dim numpy array\n",
    "      The control angles (in radian) for which the PSD should be solved.\n",
    "      Default is phi = numpy.arange(0, 360)/180.*np.pi, ergo 360 deg, 1 deg step length\n",
    "    modtype : string\n",
    "      The type of modulation, sinusoidal ('sin') or square-wave ('sw')\n",
    "    angleCorr : float\n",
    "      A starting angle, used to correct for data not starting at 0 rad.\n",
    "      Default value is 0\n",
    "\n",
    "    Returns\n",
    "    -------\n",
    "    demodulated : numpy array\n",
    "    An array in the form of IxJxK for which the dimensions corresponds to:\n",
    "      I: Demodulation angle (default, 360 deg, 1 deg step)\n",
    "      J: Y-dimension of A\n",
    "      K: Frequency, k\n",
    "\n",
    "    References:\n",
    "    Urakawa, A.; Burgi, T.; Baiker, A. Chem. Eng. Sci. 2008, 63, 4902-4909.\n",
    "    '''\n",
    "        \n",
    "    if A.ndim > 1:\n",
    "        demodulated = np.zeros((phi.shape[0], A.shape[1], kArr.shape[0]))\n",
    "    else:\n",
    "        demodulated = np.zeros((phi.shape[0], kArr.shape[0]))    \n",
    "    \n",
    "    # To get average amplitude of a period\n",
    "    n_periods = (t[-1] - t[0]) / period\n",
    "    \n",
    "    for k in range(0, kArr.shape[0]): # k-order\n",
    "        for angle in range(0, phi.shape[0]): # controller angle\n",
    "\n",
    "            if modtype.lower() == 'sin':\n",
    "                s = np.sin(kArr[k] * 2 * np.pi / period * t + phi[angle] + angleCorr)\n",
    "            elif modtype.lower() == 'sw':\n",
    "                # As given by Urakawa et al. Chem. Eng. Sci. 63 (2008) 4906\n",
    "                #\n",
    "                # Asin and phisin are the amp. and phase delay for a sinusoidal stim. \n",
    "                # at (2n-1)omega freq. and Asw and phisw are the amp. and phase delay \n",
    "                # for a square-wave (SW) stim. at omega, but obtained at (2n-1)omega.\n",
    "                # We can then set the following\n",
    "                #   pi/4*(2n - 1)*Asw = Asin\n",
    "                #   phisw = phisin\n",
    "                # The phase delay and amp. for sinusoidal and SW are equivalent \n",
    "                # (with a constant for amp.)\n",
    "\n",
    "                s = 4 / (np.pi * kArr[k]) * np.sin(kArr[k] * 2 * np.pi / period * t \n",
    "                                             + phi[angle] \n",
    "                                             + angleCorr)\n",
    "            else:\n",
    "                raise ValueError(\"Incorrect waveform, either sinusoidal (''sin'') or square wave (''SW'')\")\n",
    "            \n",
    "            if A.ndim > 1:\n",
    "                for wn in range(0, A.shape[1]):\n",
    "                    demodulated[angle, wn, k] = 2 / period * (np.trapz(A[:, wn] * s)) / n_periods\n",
    "            else:\n",
    "                demodulated[angle, k] = 2 / period * (np.trapz(A * s)) / n_periods\n",
    "\n",
    "    return demodulated"
   ]
  },
  {
   "cell_type": "code",
   "execution_count": null,
   "metadata": {},
   "outputs": [],
   "source": [
    "ans_sin.t[start_t]"
   ]
  },
  {
   "cell_type": "code",
   "execution_count": null,
   "metadata": {},
   "outputs": [],
   "source": [
    "ans_sin.t[-1]"
   ]
  },
  {
   "cell_type": "code",
   "execution_count": null,
   "metadata": {},
   "outputs": [],
   "source": [
    "(ans_sin.t[-1] - ans_sin.t[start_t]) / period"
   ]
  },
  {
   "cell_type": "code",
   "execution_count": null,
   "metadata": {},
   "outputs": [],
   "source": [
    "time = np.linspace(0, period)\n",
    "np.trapz(np.sin(time * 2 * np.pi / (1 * period) + np.pi / 2) * np.sin(time * 2 * np.pi / period))"
   ]
  },
  {
   "cell_type": "code",
   "execution_count": null,
   "metadata": {},
   "outputs": [],
   "source": [
    "start_t = np.argmin(abs(ans_square.t - period * 3))\n",
    "\n",
    "demod_square = demodulation(ans_square.y[:-len(x0_press), start_t:].T, \n",
    "                            ans_square.t[start_t:], \n",
    "                            period, \n",
    "                            kArr=np.array([i for i in range(1, 10)]),\n",
    "                            modtype='SW')\n",
    "\n",
    "fig = plot_psd([i for i in range(360)], \n",
    "               demod_square, \n",
    "               variables[:(len(x0) - len(x0_press))], \n",
    "               demod_square,\n",
    "               )"
   ]
  },
  {
   "cell_type": "code",
   "execution_count": null,
   "metadata": {},
   "outputs": [],
   "source": []
  }
 ],
 "metadata": {
  "kernelspec": {
   "display_name": "myenv",
   "language": "python",
   "name": "myenv"
  },
  "language_info": {
   "codemirror_mode": {
    "name": "ipython",
    "version": 3
   },
   "file_extension": ".py",
   "mimetype": "text/x-python",
   "name": "python",
   "nbconvert_exporter": "python",
   "pygments_lexer": "ipython3",
   "version": "3.7.3"
  },
  "toc-autonumbering": true,
  "toc-showmarkdowntxt": false,
  "toc-showtags": false
 },
 "nbformat": 4,
 "nbformat_minor": 4
}
